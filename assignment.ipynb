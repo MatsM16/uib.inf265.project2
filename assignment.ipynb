{
 "cells": [
  {
   "cell_type": "markdown",
   "metadata": {},
   "source": [
    "# Common"
   ]
  },
  {
   "cell_type": "markdown",
   "metadata": {},
   "source": [
    "### Imports"
   ]
  },
  {
   "cell_type": "code",
   "execution_count": 1,
   "metadata": {},
   "outputs": [],
   "source": [
    "import torch\n",
    "import torch.nn as nn\n",
    "import matplotlib.pyplot as plt\n",
    "import matplotlib.patches as patches"
   ]
  },
  {
   "cell_type": "markdown",
   "metadata": {},
   "source": [
    "### Config"
   ]
  },
  {
   "cell_type": "code",
   "execution_count": 2,
   "metadata": {},
   "outputs": [],
   "source": [
    "BATCH_SIZE = 256\n",
    "EPOCH_COUNT = 1\n",
    "\n",
    "torch.manual_seed(420)\n",
    "\n",
    "CLASS_COUNT = 10 # One for each digit\n",
    "PARAMS_PER_PRED = 5 + CLASS_COUNT # confidence, x, y, width, height, class probabilities\n",
    "\n",
    "CONFIDENCE_THRESHOLD = 0.5\n",
    "ACCURACY_WEIGHT = 0.5\n",
    "IOU_WEIGHT = 1 - ACCURACY_WEIGHT\n"
   ]
  },
  {
   "cell_type": "markdown",
   "metadata": {},
   "source": [
    "### Utilities"
   ]
  },
  {
   "cell_type": "code",
   "execution_count": 7,
   "metadata": {},
   "outputs": [],
   "source": [
    "def load_dataset(name:str):\n",
    "    train = torch.load(f'data/{name}_train.pt')\n",
    "    val = torch.load(f'data/{name}_val.pt')\n",
    "    test = torch.load(f'data/{name}_test.pt')\n",
    "\n",
    "    print(f\"Dataset '{name}'\")\n",
    "    print(f\"Training size:   {len(train)}\")\n",
    "    print(f\"Validation size: {len(val)}\")\n",
    "    print(f\"Test size:       {len(test)}\")\n",
    "\n",
    "    train = torch.utils.data.DataLoader(train, batch_size=BATCH_SIZE, shuffle=True)\n",
    "\n",
    "    return train, val, test\n",
    "\n",
    "def split_label(label_tensor):\n",
    "    confidence = label_tensor[:, 0:1]\n",
    "    box = label_tensor[:, 1:5]\n",
    "    classes = label_tensor[:, 5:]\n",
    "\n",
    "    return confidence, box, classes\n",
    "\n",
    "def get_iou(box1:[float], box2:[float]):\n",
    "    X, Y, W, H = 0, 1, 2, 3\n",
    "\n",
    "    # Calculate area of intersection rectangle\n",
    "    intersection_width = min(box1[X] + box1[W], box2[X] + box2[W]) - max(box1[X], box2[X])\n",
    "    intersection_height = min(box1[Y] + box1[H], box2[Y] + box2[H]) - max(box1[Y], box2[Y])\n",
    "    intersection_area = intersection_width * intersection_height\n",
    "\n",
    "    # Calculate areas of both boxes\n",
    "    box1_area = box1[W] * box1[H]\n",
    "    box2_area = box2[W] * box2[H]\n",
    "\n",
    "    # Calculate union area\n",
    "    union_area = box1_area + box2_area - intersection_area\n",
    "\n",
    "    if union_area < 0:\n",
    "        return 0\n",
    "\n",
    "    # Calculate IoU\n",
    "    return intersection_area / union_area\n",
    "\n",
    "def draw_image(image:torch.Tensor, boxes:[(float, float, float, float, str)]):\n",
    "    fig, ax = plt.subplots(1)\n",
    "    ax.imshow(image.permute(1, 2, 0))\n",
    "\n",
    "    _, height, width = image.shape\n",
    "\n",
    "    for box in boxes:\n",
    "        x, y, w, h, label = box\n",
    "\n",
    "        # Scale to image\n",
    "        x *= width * 0.5\n",
    "        y *= height * 0.5\n",
    "        w *= width\n",
    "        h *= height\n",
    "\n",
    "        rect = patches.Rectangle((x, y), w, h, linewidth=1, edgecolor='r', facecolor='none')\n",
    "        ax.add_patch(rect)\n",
    "        ax.text(x, y, label, color='r')\n",
    "\n",
    "    plt.show()\n",
    "    "
   ]
  },
  {
   "cell_type": "markdown",
   "metadata": {},
   "source": [
    "#### Dataset visualization"
   ]
  },
  {
   "cell_type": "code",
   "execution_count": 52,
   "metadata": {},
   "outputs": [],
   "source": [
    "def draw_distribution(dataset, name:str):\n",
    "\n",
    "    dist = dict()\n",
    "    total = 0\n",
    "\n",
    "    if not isinstance(dataset, torch.utils.data.DataLoader):\n",
    "        dataset = torch.utils.data.DataLoader(dataset, batch_size=BATCH_SIZE, shuffle=False)\n",
    "    \n",
    "    for _, Y in dataset:\n",
    "        for i in range(Y.shape[0]):\n",
    "\n",
    "            total += 1\n",
    "\n",
    "            if Y[i, 0] < CONFIDENCE_THRESHOLD:\n",
    "                classValue = \"None\"\n",
    "            else:\n",
    "                classValue = str(int(Y[i, -1].item()))\n",
    "\n",
    "            if classValue not in dist:\n",
    "                dist[classValue] = 1\n",
    "            else:\n",
    "                dist[classValue] += 1\n",
    "\n",
    "    # Sort by key\n",
    "    dist = {key: val for key, val in sorted(dist.items(), key = lambda x: x[0])}\n",
    "\n",
    "    plt.bar(dist.keys(), dist.values())\n",
    "    plt.title(f'{name} distribution ({total} samples)')\n",
    "    plt.savefig(f'assets/distribution_{name}.png')\n",
    "    plt.show()"
   ]
  },
  {
   "cell_type": "markdown",
   "metadata": {},
   "source": [
    "#### Training and validation"
   ]
  },
  {
   "cell_type": "code",
   "execution_count": 25,
   "metadata": {},
   "outputs": [],
   "source": [
    "def train(model, dataset, loss_fn):\n",
    "    model.train() # Set model to training mode\n",
    "\n",
    "    optimizer = torch.optim.Adam(model.parameters(), lr=0.01)\n",
    "\n",
    "    for epoch in range(EPOCH_COUNT):\n",
    "        aggregate_loss = 0.0\n",
    "\n",
    "        for X, Y_true in dataset:\n",
    "            optimizer.zero_grad()\n",
    "\n",
    "            Y_pred = model(X)\n",
    "            \n",
    "            loss = loss_fn(Y_true, Y_pred)\n",
    "\n",
    "            loss.backward()\n",
    "\n",
    "            optimizer.step()\n",
    "\n",
    "            aggregate_loss += loss.item()\n",
    "\n",
    "        print(f\"Epoch {epoch+1}/{EPOCH_COUNT} - Loss: {aggregate_loss}\")"
   ]
  },
  {
   "cell_type": "code",
   "execution_count": 533,
   "metadata": {},
   "outputs": [],
   "source": [
    "def validate(model, dataset, performance_fn):\n",
    "    model.eval() # Set model to evaluation mode\n",
    "\n",
    "    with torch.no_grad():\n",
    "\n",
    "        total_count = 0\n",
    "        correct_count = 0\n",
    "        aggregate_iou = 0.0\n",
    "\n",
    "        for x, y_true in dataset:\n",
    "\n",
    "            correct, iou = performance_fn(y_true, model(x))\n",
    "\n",
    "            total_count   += 1\n",
    "            correct_count += correct\n",
    "            aggregate_iou += iou\n",
    "\n",
    "        accuracy = correct_count / total_count\n",
    "        iou      = aggregate_iou / total_count\n",
    "        performance = (accuracy * ACCURACY_WEIGHT) + (iou * IOU_WEIGHT)\n",
    "\n",
    "        print(f\"Validation - Accuracy: {accuracy}, IoU: {iou}, Performance: {performance}\")"
   ]
  },
  {
   "cell_type": "code",
   "execution_count": 534,
   "metadata": {},
   "outputs": [],
   "source": [
    "def train_or_load(model, loss_fn, name:str):\n",
    "    try:\n",
    "        model.load_state_dict(torch.load(f'models/{name}.pt'))\n",
    "        print(f\"Model '{name}' loaded from file\")\n",
    "    except:\n",
    "        print(f\"Model '{name}' not found, training new model\")\n",
    "        train(model, loss_fn)\n",
    "        torch.save(model.state_dict(), f'models/{name}.pt')"
   ]
  },
  {
   "cell_type": "markdown",
   "metadata": {},
   "source": [
    "# Object localization\n",
    "Localize and classify images of digits.\n",
    "- Image dimensions are `height=48`, `wight=60` and `channels=1`\n",
    "- Each image contains exactly **one** digit"
   ]
  },
  {
   "cell_type": "markdown",
   "metadata": {},
   "source": [
    "## Load localization datasets"
   ]
  },
  {
   "cell_type": "code",
   "execution_count": 27,
   "metadata": {},
   "outputs": [
    {
     "name": "stdout",
     "output_type": "stream",
     "text": [
      "Dataset 'localization'\n",
      "Training size:   59400\n",
      "Validation size: 6600\n",
      "Test size:       11000\n"
     ]
    }
   ],
   "source": [
    "loc_train, loc_val, loc_test = load_dataset('localization')"
   ]
  },
  {
   "cell_type": "code",
   "execution_count": 53,
   "metadata": {},
   "outputs": [
    {
     "data": {
      "image/png": "[encoded data removed]",
      "text/plain": [
       "<Figure size 640x480 with 1 Axes>"
      ]
     },
     "metadata": {},
     "output_type": "display_data"
    },
    {
     "data": {
      "image/png": "[encoded data removed]",
      "text/plain": [
       "<Figure size 640x480 with 1 Axes>"
      ]
     },
     "metadata": {},
     "output_type": "display_data"
    },
    {
     "data": {
      "image/png": "[encoded data removed]",
      "text/plain": [
       "<Figure size 640x480 with 1 Axes>"
      ]
     },
     "metadata": {},
     "output_type": "display_data"
    }
   ],
   "source": [
    "draw_distribution(loc_train, 'Localization Training')\n",
    "draw_distribution(loc_val, 'Localization Validation')\n",
    "draw_distribution(loc_test, 'Localization Test')"
   ]
  },
  {
   "cell_type": "markdown",
   "metadata": {},
   "source": [
    "## Define networks"
   ]
  },
  {
   "cell_type": "code",
   "execution_count": 536,
   "metadata": {},
   "outputs": [],
   "source": [
    "class CnnV1(nn.Module):\n",
    "    \"\"\"\n",
    "    Expected input image to be 48x60x3.\n",
    "    \"\"\"\n",
    "\n",
    "    def __init__(self):\n",
    "        super(CnnV1, self).__init__()\n",
    "        \n",
    "        # Data = 48x60x3\n",
    "\n",
    "        self.l1_conv = nn.Conv2d(in_channels=1, out_channels=10, kernel_size=3, stride=1, padding=1)\n",
    "        self.l2_pool = nn.MaxPool2d(kernel_size=2, stride=2, padding=0)\n",
    "\n",
    "        # Data = 24x30x10\n",
    "\n",
    "        self.l3_conv = nn.Conv2d(in_channels=10, out_channels=10, kernel_size=3, stride=1, padding=1)\n",
    "        self.l4_pool = nn.MaxPool2d(kernel_size=2, stride=2, padding=0)\n",
    "        \n",
    "        # Data = 12x15x10\n",
    "\n",
    "        self.l5_conv = nn.Conv2d(in_channels=10, out_channels=10, kernel_size=3, stride=1, padding=1)\n",
    "        self.l6_pool = nn.MaxPool2d(kernel_size=(2, 3), stride=(2, 3), padding=0)\n",
    "\n",
    "        # Data = 6x5x10\n",
    "\n",
    "        self.l7_conv = nn.Conv2d(in_channels=10, out_channels=10, kernel_size=3, stride=1, padding=1)\n",
    "        \n",
    "        # Data = 6x5x10\n",
    "\n",
    "        self.l8_fc = nn.Linear(in_features=6*5*10, out_features=100)\n",
    "        self.l9_fc = nn.Linear(in_features=100, out_features=PARAMS_PER_PRED)\n",
    "\n",
    "    def forward(self, x:torch.Tensor) -> torch.Tensor:\n",
    "\n",
    "        x = torch.relu(self.l1_conv(x))\n",
    "        x = self.l2_pool(x)\n",
    "\n",
    "        x = torch.relu(self.l3_conv(x))\n",
    "        x = self.l4_pool(x)\n",
    "\n",
    "        x = torch.relu(self.l5_conv(x))\n",
    "        x = self.l6_pool(x)\n",
    "\n",
    "        x = torch.relu(self.l7_conv(x))\n",
    "\n",
    "        x = x.view(-1, 6*5*10)\n",
    "\n",
    "        x = torch.relu(self.l8_fc(x))\n",
    "\n",
    "        x = torch.relu(self.l9_fc(x))\n",
    "\n",
    "        return x"
   ]
  },
  {
   "cell_type": "code",
   "execution_count": 537,
   "metadata": {},
   "outputs": [],
   "source": [
    "class CnnV2(nn.Module):\n",
    "    \"\"\"\n",
    "    Expected input image to be 48x60x3.\n",
    "    \"\"\"\n",
    "\n",
    "    def __init__(self):\n",
    "        super(CnnV2, self).__init__()\n",
    "        \n",
    "        # Data = 48x60x3\n",
    "\n",
    "        self.l1_conv = nn.Conv2d(in_channels=1, out_channels=10, kernel_size=9, stride=1, padding=0)\n",
    "\n",
    "        # Data = 40x52x10\n",
    "        \n",
    "        self.l2_conv = nn.Conv2d(in_channels=10, out_channels=10, kernel_size=7, stride=1, padding=0)\n",
    "\n",
    "        # Data = 34x46x10\n",
    "        \n",
    "        self.l3_conv = nn.Conv2d(in_channels=10, out_channels=10, kernel_size=7, stride=1, padding=0)\n",
    "\n",
    "        # Data = 28x40x10\n",
    "        \n",
    "        self.l4_conv = nn.Conv2d(in_channels=10, out_channels=10, kernel_size=5, stride=1, padding=0)\n",
    "\n",
    "        # Data = 24x36x10\n",
    "\n",
    "        self.l5_pool = nn.MaxPool2d(kernel_size=2, stride=2, padding=0)\n",
    "\n",
    "        # Data = 12x18x10\n",
    "\n",
    "        self.l6_conv = nn.Conv2d(in_channels=10, out_channels=10, kernel_size=5, stride=1, padding=0)\n",
    "\n",
    "        # Data = 8x14x10\n",
    "\n",
    "        self.l7_conv = nn.Conv2d(in_channels=10, out_channels=10, kernel_size=5, stride=1, padding=0)\n",
    "\n",
    "        # Data = 4x10x10\n",
    "\n",
    "        self.l8_fc = nn.Linear(in_features=4*10*10, out_features=100)\n",
    "        self.l9_fc = nn.Linear(in_features=100, out_features=50)\n",
    "        self.l10_fc = nn.Linear(in_features=50, out_features=PARAMS_PER_PRED)\n",
    "\n",
    "\n",
    "    def forward(self, x:torch.Tensor) -> torch.Tensor:\n",
    "        x = torch.relu(self.l1_conv(x))\n",
    "        x = torch.relu(self.l2_conv(x))\n",
    "        x = torch.relu(self.l3_conv(x))\n",
    "        x = torch.relu(self.l4_conv(x))\n",
    "        x = self.l5_pool(x)\n",
    "        x = torch.relu(self.l6_conv(x))\n",
    "        x = torch.relu(self.l7_conv(x))\n",
    "\n",
    "        x = x.view(-1, 4*10*10)\n",
    "\n",
    "        x = torch.relu(self.l8_fc(x))\n",
    "        x = torch.relu(self.l9_fc(x))\n",
    "        x = torch.relu(self.l10_fc(x))\n",
    "\n",
    "        return x"
   ]
  },
  {
   "cell_type": "markdown",
   "metadata": {},
   "source": [
    "## Define training"
   ]
  },
  {
   "cell_type": "code",
   "execution_count": 538,
   "metadata": {},
   "outputs": [],
   "source": [
    "loss_fn_confidence = nn.BCEWithLogitsLoss()\n",
    "loss_fn_class = nn.CrossEntropyLoss()\n",
    "loss_fn_box = nn.MSELoss()\n",
    "\n",
    "def loss_fn(y_true, y_pred):\n",
    "\n",
    "    # Used to filter out prodictions without objects\n",
    "    has_object_mask = y_true[:, 0] >= CONFIDENCE_THRESHOLD\n",
    "\n",
    "    # Extract true values\n",
    "    y_true_confidence, y_true_box, y_true_classes = split_label(y_true)\n",
    "\n",
    "    # Convert class labels to one-hot\n",
    "    y_true_classes = torch.nn.functional.one_hot(y_true_classes.long(), num_classes=CLASS_COUNT).float().squeeze()\n",
    "    \n",
    "    # Extract predicted values\n",
    "    y_pred_confidence, y_pred_box, y_pred_classes = split_label(y_pred)\n",
    "\n",
    "    # Calculate confidence loss for all labels\n",
    "    confidence_loss = loss_fn_confidence(y_pred_confidence, y_true_confidence)\n",
    "\n",
    "    # Calculate box and class loss for labels with objects\n",
    "    box_loss = loss_fn_box(y_pred_box[has_object_mask], y_true_box[has_object_mask])\n",
    "    class_loss = loss_fn_class(y_pred_classes[has_object_mask], y_true_classes[has_object_mask])\n",
    "\n",
    "    # Return sum of all losses\n",
    "    return confidence_loss + box_loss + class_loss"
   ]
  },
  {
   "cell_type": "code",
   "execution_count": 539,
   "metadata": {},
   "outputs": [],
   "source": [
    "def performance_fn(y_true, y_pred) -> (int, float):\n",
    "\n",
    "    # Extract true values\n",
    "    y_true_confidence = y_true[0:1].item()\n",
    "    y_true_box = y_true[1:5].tolist()\n",
    "    y_true_class = y_true[5:].long().item()\n",
    "\n",
    "    # Extract predicted values\n",
    "    y_pred_confidence = torch.sigmoid(y_pred[0, 0:1]).item()\n",
    "    y_pred_box = y_pred[0, 1:5].tolist()\n",
    "    y_pred_class = y_pred[0, 5:].argmax(dim=-1).tolist()\n",
    "\n",
    "    # Check if the label contains an object\n",
    "    no_object = y_true_confidence < CONFIDENCE_THRESHOLD\n",
    "    predicted_no_object = y_pred_confidence < CONFIDENCE_THRESHOLD\n",
    "\n",
    "    # If we correctly predict no object, we don't care about the other values\n",
    "    if no_object and predicted_no_object:\n",
    "        return 1, 1.0\n",
    "\n",
    "    if no_object:\n",
    "        return 0, 0.0\n",
    "\n",
    "    iou = get_iou(y_true_box, y_pred_box)\n",
    "\n",
    "    if y_true_class == y_pred_class:\n",
    "        return 1, iou\n",
    "    return 0, iou"
   ]
  },
  {
   "cell_type": "markdown",
   "metadata": {},
   "source": [
    "### Train models"
   ]
  },
  {
   "cell_type": "code",
   "execution_count": 540,
   "metadata": {},
   "outputs": [
    {
     "name": "stdout",
     "output_type": "stream",
     "text": [
      "Epoch 1/1 - Loss: 1173.3659927845001\n",
      "Validation - Accuracy: 0.08757575757575757, IoU: -0.11713622902828764, Performance: -0.014780235726265037\n"
     ]
    },
    {
     "data": {
      "image/png": "[encoded data removed]",
      "text/plain": [
       "<Figure size 640x480 with 1 Axes>"
      ]
     },
     "metadata": {},
     "output_type": "display_data"
    }
   ],
   "source": [
    "cnnv2_1 = CnnV2()\n",
    "\n",
    "train(cnnv2_1, loc_train, loss_fn)\n",
    "validate(cnnv2_1, loc_val, performance_fn)\n",
    "\n",
    "def print_prediction_sample(model, dataset, sample_index):\n",
    "    model.eval()\n",
    "    image, y_true = dataset[sample_index]\n",
    "    with torch.no_grad():    \n",
    "        # Extract true values\n",
    "        y_true_confidence = y_true[0:1].item()\n",
    "        y_true_box = y_true[1:5].tolist()\n",
    "        y_true_class = y_true[5:].long().item()\n",
    "\n",
    "        # Extract predicted values\n",
    "        y_pred_confidence = torch.sigmoid(y_pred[0, 0:1]).item()\n",
    "        y_pred_box = y_pred[0, 1:5].tolist()\n",
    "        y_pred_class = y_pred[0, 5:].argmax(dim=-1).tolist()\n",
    "\n",
    "        draw_image(image, [\n",
    "            (y_true_box[0], y_true_box[1], y_true_box[2], y_true_box[3], f\"True: {y_true_class}\"), \n",
    "            (y_pred_box[0], y_pred_box[1], y_pred_box[2], y_pred_box[3], f\"Pred: {y_pred_class}\")\n",
    "        ])\n",
    "\n",
    "print_prediction_sample(cnnv1_1, loc_val, 132)"
   ]
  }
 ],
 "metadata": {
  "kernelspec": {
   "display_name": "Python 3",
   "language": "python",
   "name": "python3"
  },
  "language_info": {
   "codemirror_mode": {
    "name": "ipython",
    "version": 3
   },
   "file_extension": ".py",
   "mimetype": "text/x-python",
   "name": "python",
   "nbconvert_exporter": "python",
   "pygments_lexer": "ipython3",
   "version": "3.11.4"
  }
 },
 "nbformat": 4,
 "nbformat_minor": 2
}
